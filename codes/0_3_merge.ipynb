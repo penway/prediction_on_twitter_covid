{
 "cells": [
  {
   "cell_type": "code",
   "execution_count": 1,
   "metadata": {},
   "outputs": [],
   "source": [
    "from pyspark.sql.types import *\n",
    "from pyspark.sql import SparkSession\n",
    "from pyspark.sql.functions import *\n",
    "\n",
    "appName = \"Generate Twitter Dataset\"\n",
    "spark = SparkSession.builder.appName(appName).getOrCreate()"
   ]
  },
  {
   "cell_type": "code",
   "execution_count": 5,
   "metadata": {},
   "outputs": [],
   "source": [
    "epidemic_data = spark.read.csv(\"../datasets/epidemic_train.csv\", header=True, inferSchema=True)\n",
    "twitter_data = spark.read.csv(\"../datasets/twitter_dataset.csv\", header=True, inferSchema=True)"
   ]
  },
  {
   "cell_type": "code",
   "execution_count": 6,
   "metadata": {},
   "outputs": [],
   "source": [
    "epidemic_data = epidemic_data.drop(\"date\")\n",
    "twitter_data = twitter_data.drop(\"date\").drop(\"index\")"
   ]
  },
  {
   "cell_type": "code",
   "execution_count": 7,
   "metadata": {},
   "outputs": [],
   "source": [
    "integrated_data = epidemic_data.join(twitter_data)\n",
    "integrated_data.show(2)"
   ]
  },
  {
   "cell_type": "code",
   "execution_count": 9,
   "metadata": {},
   "outputs": [
    {
     "name": "stdout",
     "output_type": "stream",
     "text": [
      "+-----+-----+--------+------+--------+--------+------------------+------------------+------------------+------------------+-----------------+\n",
      "|index|cases|newCases|deaths|positive|negative|         happiness|           sadness|              fear|             anger|          valence|\n",
      "+-----+-----+--------+------+--------+--------+------------------+------------------+------------------+------------------+-----------------+\n",
      "|    0|    5|       0|     0|       0|       0|0.2903939018130711|0.4258786943730854|0.4933492155330761|0.4453657490310575|0.440298679537766|\n",
      "|    1|    6|       1|     0|       0|       0|0.2903939018130711|0.4258786943730854|0.4933492155330761|0.4453657490310575|0.440298679537766|\n",
      "+-----+-----+--------+------+--------+--------+------------------+------------------+------------------+------------------+-----------------+\n",
      "only showing top 2 rows\n",
      "\n"
     ]
    }
   ],
   "source": [
    "integrated_data.toPandas().to_csv(\"../datasets/training_integrated_data.csv\", index=False)"
   ]
  }
 ],
 "metadata": {
  "interpreter": {
   "hash": "95c28947ebbbbe2ea1e8c1b45930eb12374cab351e1c90100eecd3c0f8c27588"
  },
  "kernelspec": {
   "display_name": "Python 3.8.12 ('spark')",
   "language": "python",
   "name": "python3"
  },
  "language_info": {
   "codemirror_mode": {
    "name": "ipython",
    "version": 3
   },
   "file_extension": ".py",
   "mimetype": "text/x-python",
   "name": "python",
   "nbconvert_exporter": "python",
   "pygments_lexer": "ipython3",
   "version": "3.8.12"
  },
  "orig_nbformat": 4
 },
 "nbformat": 4,
 "nbformat_minor": 2
}
