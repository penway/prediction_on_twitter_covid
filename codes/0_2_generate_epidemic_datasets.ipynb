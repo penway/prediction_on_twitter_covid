{
 "cells": [
  {
   "cell_type": "markdown",
   "metadata": {},
   "source": [
    "# Generate epidemic dataset\n",
    "\n",
    "split dataset to two parts:\n",
    "\n",
    "- 2020-01-29 to 2021-08-30 as training set, coresponding to twitter_dataset\n",
    "\n",
    "- after 2021-09-01 as predicting set, use to predict"
   ]
  },
  {
   "cell_type": "markdown",
   "metadata": {},
   "source": [
    "import modules and start spark session"
   ]
  },
  {
   "cell_type": "code",
   "execution_count": 29,
   "metadata": {},
   "outputs": [],
   "source": [
    "from pyspark.sql.types import *\n",
    "from pyspark.sql import SparkSession\n",
    "from pyspark.sql.functions import *\n",
    "\n",
    "appName = \"Generate Twitter Dataset\"\n",
    "spark = SparkSession.builder.appName(appName).getOrCreate()"
   ]
  },
  {
   "cell_type": "markdown",
   "metadata": {},
   "source": [
    "read dataset"
   ]
  },
  {
   "cell_type": "code",
   "execution_count": 30,
   "metadata": {},
   "outputs": [],
   "source": [
    "data = spark.read.csv(\"../datasets/epidemic_raw.csv\", header=True, inferSchema=True)"
   ]
  },
  {
   "cell_type": "markdown",
   "metadata": {},
   "source": [
    "select needed columns, fill null with 0"
   ]
  },
  {
   "cell_type": "code",
   "execution_count": 31,
   "metadata": {},
   "outputs": [],
   "source": [
    "data = data.select(\n",
    "    col(\"date\").cast(\"date\").alias(\"date\"),\n",
    "    col(\"cases\").cast(\"int\").alias(\"cases\"),\n",
    "    col(\"newCases\").cast(\"int\").alias(\"newCases\"),\n",
    "    col(\"deaths\").cast(\"int\").alias(\"deaths\"),\n",
    "    col(\"positiveTests\").cast(\"int\").alias(\"positive\"),\n",
    "    col(\"negativeTests\").cast(\"int\").alias(\"negative\"),\n",
    ").fillna(0)"
   ]
  },
  {
   "cell_type": "markdown",
   "metadata": {},
   "source": [
    "split dataset with date"
   ]
  },
  {
   "cell_type": "code",
   "execution_count": 32,
   "metadata": {},
   "outputs": [
    {
     "name": "stdout",
     "output_type": "stream",
     "text": [
      "+----------+-----+--------+------+--------+--------+\n",
      "|      date|cases|newCases|deaths|positive|negative|\n",
      "+----------+-----+--------+------+--------+--------+\n",
      "|2020-01-29|    5|       0|     0|       0|       0|\n",
      "|2020-01-30|    6|       1|     0|       0|       0|\n",
      "+----------+-----+--------+------+--------+--------+\n",
      "only showing top 2 rows\n",
      "\n",
      "+----------+-------+--------+------+--------+--------+\n",
      "|      date|  cases|newCases|deaths|positive|negative|\n",
      "+----------+-------+--------+------+--------+--------+\n",
      "|2020-08-31|6045457|   36487|183472| 7823449|82147658|\n",
      "|2020-09-01|6089506|   44049|184563| 7871728|82994861|\n",
      "+----------+-------+--------+------+--------+--------+\n",
      "only showing top 2 rows\n",
      "\n"
     ]
    }
   ],
   "source": [
    "dataTrain = data.filter(col(\"date\") >= \"2020-01-29\").filter(col(\"date\") <= \"2020-08-30\")\n",
    "dataPred  = data.filter(col(\"date\") >= \"2020-08-31\")\n",
    "dataTrain.show(2)\n",
    "dataPred.show(2)"
   ]
  },
  {
   "cell_type": "code",
   "execution_count": 34,
   "metadata": {},
   "outputs": [],
   "source": [
    "dataTrain.toPandas().to_csv(\"../datasets/epidemic_train.csv\", header=True)\n",
    "dataPred.toPandas().to_csv(\"../datasets/epidemic_pred.csv\", header=True)"
   ]
  }
 ],
 "metadata": {
  "interpreter": {
   "hash": "95c28947ebbbbe2ea1e8c1b45930eb12374cab351e1c90100eecd3c0f8c27588"
  },
  "kernelspec": {
   "display_name": "Python 3.8.12 ('spark')",
   "language": "python",
   "name": "python3"
  },
  "language_info": {
   "codemirror_mode": {
    "name": "ipython",
    "version": 3
   },
   "file_extension": ".py",
   "mimetype": "text/x-python",
   "name": "python",
   "nbconvert_exporter": "python",
   "pygments_lexer": "ipython3",
   "version": "3.8.12"
  },
  "orig_nbformat": 4
 },
 "nbformat": 4,
 "nbformat_minor": 2
}
